{
 "cells": [
  {
   "cell_type": "markdown",
   "metadata": {},
   "source": [
    "# Goal of Notebook\n",
    "- Resize input images to all be same dimension\n",
    "- Save resized images in correct folder structure for training\n",
    "\n",
    "This is only required to run once"
   ]
  },
  {
   "cell_type": "markdown",
   "metadata": {},
   "source": [
    "## Library Load"
   ]
  },
  {
   "cell_type": "code",
   "execution_count": 1,
   "metadata": {},
   "outputs": [],
   "source": [
    "from PIL import Image\n",
    "import os\n",
    "import pandas as pd"
   ]
  },
  {
   "cell_type": "code",
   "execution_count": null,
   "metadata": {},
   "outputs": [],
   "source": [
    "# Define the target size\n",
    "target_size = (50, 50)\n",
    "\n",
    "# Set the input and output directories\n",
    "input_directory = r\"C:\\Users\\Welcome\\Documents\\MScAC\\STA2453\\Project\\CodeRepo\\STA2453-Zooplankton\\data\\combined_pics\"\n",
    "# Intermediate storage\n",
    "output_directory = r\"C:\\Users\\Welcome\\Documents\\MScAC\\STA2453\\Project\\CodeRepo\\STA2453-Zooplankton\\data\\resized_combined_pics\"\n",
    "# Location to store split dat afor model\n",
    "Efficient_NET_DATA = r'C:\\Users\\Welcome\\Documents\\MScAC\\STA2453\\Project\\CodeRepo\\STA2453-Zooplankton\\data\\EfficientNetTrain'"
   ]
  },
  {
   "cell_type": "code",
   "execution_count": null,
   "metadata": {},
   "outputs": [],
   "source": [
    "# Ensure the output directory exists\n",
    "os.makedirs(output_directory, exist_ok=True)\n",
    "\n",
    "\n",
    "# Loop through all images in the input directory and resize image\n",
    "skip_counter = 0\n",
    "for filename in os.listdir(input_directory):\n",
    "    try:\n",
    "        if filename.endswith(\".tif\"):\n",
    "            # Open the image\n",
    "            image_path = os.path.join(input_directory, filename)\n",
    "            img = Image.open(image_path)\n",
    "\n",
    "            # Resize the image\n",
    "            img = img.resize(target_size, Image.LANCZOS)\n",
    "\n",
    "            # Save the resized image to the output directory\n",
    "            output_path = os.path.join(output_directory, filename)\n",
    "            img.save(output_path)\n",
    "    except:\n",
    "        print(image_path)\n",
    "\n",
    "print(\"All images resized successfully!\")"
   ]
  },
  {
   "cell_type": "code",
   "execution_count": 4,
   "metadata": {},
   "outputs": [],
   "source": [
    "# Load csv\n",
    "master_df = pd.read_csv(r'C:\\Users\\Welcome\\Documents\\MScAC\\STA2453\\Project\\CodeRepo\\STA2453-Zooplankton\\data\\merged_csv\\combined_lakes.csv')"
   ]
  },
  {
   "cell_type": "code",
   "execution_count": 28,
   "metadata": {},
   "outputs": [
    {
     "name": "stdout",
     "output_type": "stream",
     "text": [
      "Error processing 20220531_FISHI_188_2mm_Rep2_VC_data_465.tif: cannot identify image file 'C:\\\\Users\\\\Welcome\\\\Documents\\\\MScAC\\\\STA2453\\\\Project\\\\CodeRepo\\\\STA2453-Zooplankton\\\\data\\\\resized_combined_pics\\\\20220531_FISHI_188_2mm_Rep2_VC_data_465.tif'\n",
      "Images successfully organized by class!\n"
     ]
    }
   ],
   "source": [
    "# Create directories for each class\n",
    "output_directory = r\"C:\\Users\\Welcome\\Documents\\MScAC\\STA2453\\Project\\CodeRepo\\STA2453-Zooplankton\\data\\resized_combined_pics\"\n",
    "FIRST_PASS = False\n",
    "# If this is the first time running create necessary folders\n",
    "if FIRST_PASS:\n",
    "    accepted_classes = ['Calanoid_1', 'Cyclopoid_1', 'Bosmina_1', 'Herpacticoida', 'Chydoridae', 'Chironomid', 'Daphnia', 'TooSmall', 'lowPriority']\n",
    "\n",
    "    # Make the directory\n",
    "    for class_label in accepted_classes:\n",
    "        os.makedirs(os.path.join(Efficient_NET_DATA, str(class_label)), exist_ok=True)\n",
    "\n",
    "    # Create priority class column\n",
    "    master_df['priority_class'] = master_df['Class'].apply(lambda x: x if x in accepted_classes else 'lowPriority')\n",
    "\n",
    "# Loop through each row in master_df\n",
    "for idx, row in master_df.iterrows():\n",
    "    try:\n",
    "        # Get the image path and class label\n",
    "        class_label = str(row['priority_class'])\n",
    "        img_name = fr\"{row['csv_filepath']}_{row['Particle.ID']}.tif\"\n",
    "        \n",
    "        \n",
    "        # Load image from output directory\n",
    "        img_path = os.path.join(output_directory, img_name)\n",
    "        \n",
    "        if os.path.exists(img_path):\n",
    "            # Load the image\n",
    "            img = Image.open(img_path)\n",
    "            \n",
    "            # Save to new directory organized by class\n",
    "            new_path = os.path.join(Efficient_NET_DATA, class_label, img_name)\n",
    "            img.save(new_path)\n",
    "            \n",
    "            # Close the image to free up memory\n",
    "            img.close()\n",
    "            \n",
    "    except Exception as e:\n",
    "        print(f\"Error processing {img_name}: {str(e)}\")\n",
    "\n",
    "print(\"Images successfully organized by class!\")"
   ]
  }
 ],
 "metadata": {
  "kernelspec": {
   "display_name": "sta2453",
   "language": "python",
   "name": "python3"
  },
  "language_info": {
   "codemirror_mode": {
    "name": "ipython",
    "version": 3
   },
   "file_extension": ".py",
   "mimetype": "text/x-python",
   "name": "python",
   "nbconvert_exporter": "python",
   "pygments_lexer": "ipython3",
   "version": "3.13.1"
  }
 },
 "nbformat": 4,
 "nbformat_minor": 2
}
