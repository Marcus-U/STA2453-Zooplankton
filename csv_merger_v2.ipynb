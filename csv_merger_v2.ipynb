{
 "cells": [
  {
   "cell_type": "markdown",
   "metadata": {},
   "source": [
    "Approach:\n",
    "1. Basic EDA\n",
    "    a. Distributions of features in csv\n",
    "    b. Pick relevant classes\n",
    "    c. \n",
    "\n",
    "\n",
    "Sofia.ruizsurez@mail.utoronto.ca\n",
    "\n",
    "\n",
    "2. Split all images into sub_images\n",
    "    a. Combine all csvs into master\n",
    "    b. Filter out undesirable classes\n",
    "    c. Use csv to collect image (add image name to columns)\n",
    "    d. Resize all images to same size\n",
    "    e. PCA by category"
   ]
  },
  {
   "cell_type": "code",
   "execution_count": null,
   "metadata": {},
   "outputs": [],
   "source": [
    "import numpy as np\n",
    "import pandas as pd\n",
    "import os\n",
    "import cv2\n",
    "from pathlib import Path\n",
    "import matplotlib.pyplot as plt"
   ]
  },
  {
   "cell_type": "code",
   "execution_count": null,
   "metadata": {},
   "outputs": [],
   "source": [
    "# Filepath variables and constants\n",
    "\n",
    "# Location of individual CSVs for each lake\n",
    "SRC_CSV_FOLDERS = [r\"C:\\Users\\Welcome\\OneDrive - University of Toronto\\Sta2453\\HURON_OverlapTiffsWithPP\\HURONOvlerap_csv\",\n",
    "                     r\"C:\\Users\\Welcome\\OneDrive - University of Toronto\\Sta2453\\SIMC_OverlapTiffsWithPP\\SIMC.Overlap.csv\"]\n",
    "\n",
    "# Location of tif mosaics for each lake\n",
    "SRC_TIFF_FOLDERS = [r\"C:\\Users\\Welcome\\OneDrive - University of Toronto\\Sta2453\\HURON_OverlapTiffsWithPP\",\n",
    "                      r\"C:\\Users\\Welcome\\OneDrive - University of Toronto\\Sta2453\\SIMC_OverlapTiffsWithPP\"]\n",
    "\n",
    "# Destination for master CSV file and demosaiced tifs\n",
    "DEST_CSV_FOLDER = r\"C:\\Users\\Welcome\\Documents\\MScAC\\STA2453\\Project\\CodeRepo\\STA2453-Zooplankton\\data\\merged_csv\"\n",
    "DEST_TIFF_FOLDER = r\"C:\\Users\\Welcome\\Documents\\MScAC\\STA2453\\Project\\CodeRepo\\STA2453-Zooplankton\\data\\combined_pics\""
   ]
  },
  {
   "cell_type": "code",
   "execution_count": null,
   "metadata": {},
   "outputs": [],
   "source": [
    "def merge_csv_files(SRC_CSV_FOLDERS, SRC_TIF_FOLDER):\n",
    "    \"\"\"\n",
    "    Merges all CSV files from the folders provided into a single dataframe.\n",
    "\n",
    "    Args:\n",
    "        SRC_FOLDERS (list): List of folders containing CSV files to merge\n",
    "\n",
    "    Returns:\n",
    "        pandas.DataFrame: DataFrame containing the merged CSV data\n",
    "\n",
    "    Raises:\n",
    "        FileNotFoundError: If any of the specified paths do not exist\n",
    "        pd.errors.EmptyDataError: If any CSV files are empty\n",
    "    \n",
    "    \"\"\"\n",
    "    csvs = [] #Empty list to be populated with individual dfs for each csv file\n",
    "    \n",
    "    # Loop through each folder\n",
    "    for i,filepath in enumerate(SRC_CSV_FOLDERS):\n",
    "        folder_path = Path(filepath)\n",
    "        tiff_path = TIFF_FILEPATHS[i]\n",
    "\n",
    "        for file_path in folder_path.iterdir():\n",
    "            if file_path.is_file():\n",
    "\n",
    "                csv = pd.read_csv(file_path)\n",
    "                csv['tiff_fp'] = tiff_path\n",
    "                # Added in below line\n",
    "                csv['csv_filepath'] = file_path.name[:-4]\n",
    "                if filepath == FILEPATHS[0]:\n",
    "                    csv['lake'] = 'Huron'\n",
    "                else:\n",
    "                    csv['lake'] = 'Simcoe'\n",
    "                csvs.append(csv)"
   ]
  }
 ],
 "metadata": {
  "kernelspec": {
   "display_name": "sta2453",
   "language": "python",
   "name": "python3"
  },
  "language_info": {
   "name": "python",
   "version": "3.13.1"
  }
 },
 "nbformat": 4,
 "nbformat_minor": 2
}
